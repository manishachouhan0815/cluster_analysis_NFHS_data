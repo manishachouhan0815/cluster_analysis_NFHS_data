{
 "cells": [
  {
   "cell_type": "markdown",
   "metadata": {},
   "source": [
    "# <font size=14> Women and Child Health: Analysis of NFHS-4 Data </font>\n",
    "National Family Health Survey, 4 (2015-2016) - India\n",
    "\n",
    "- Data for this project has been taken from https://data.gov.in/\n",
    "- Link to the dataset: https://data.gov.in/catalog/key-indicators-national-family-health-survey-nfhs\n",
    "<br> </br>\n",
    "\n"
   ]
  },
  {
   "cell_type": "markdown",
   "metadata": {},
   "source": [
    "# <font size=10> Data Analysis - Influence of Contraception Awareness on other variables related to women and child health </font>\n",
    "\n"
   ]
  },
  {
   "cell_type": "markdown",
   "metadata": {},
   "source": [
    "# 1. Correlation Analysis and selection of relevant variables"
   ]
  },
  {
   "cell_type": "code",
   "execution_count": 1,
   "metadata": {},
   "outputs": [
    {
     "data": {
      "text/plain": [
       "Households surveyed                                                                             -0.145286\n",
       "Women age 15-49 years interviewed                                                               -0.151322\n",
       "Men age 15-49 years interviewed                                                                 -0.038394\n",
       "1. Population (female) age 6+ years who ever attended school (%)                                 0.150158\n",
       "3. Sex ratio of the total population (females per 1000 males)                                   -0.253559\n",
       "4. Sex ratio at birth for children born in the last five years (females per 1000 males)         -0.063573\n",
       "7. Households with an improved drinking-water source1 (%)                                        0.136614\n",
       "8. Households using improved sanitation facility2 (%)                                            0.259278\n",
       "9. Households using clean fuel for cooking3 (%)                                                  0.298658\n",
       "12. Women who are literate (%)                                                                   0.250986\n",
       "13. Men who are literate (%)                                                                     0.197558\n",
       "14. Women with 10 or more years of schooling (%)                                                 0.278794\n",
       "15. Women age 20-24 years married before age 18 years (%)                                       -0.138352\n",
       "19. Any modern method (%)                                                                        1.000000\n",
       "30. Mothers who had at least 4 antenatal care visits (%)                                         0.538074\n",
       "32. Mothers who consumed iron folic acid for 100 days or more when they were pregnant (%)        0.471368\n",
       "40. Institutional births (%)                                                                     0.552469\n",
       "42. Home delivery conducted by skilled health personnel (out of total deliveries) (%)           -0.235633\n",
       "47. Children age 12-23 months fully immunized (BCG measles and 3 doses each of polio/DPT) (%)    0.483489\n",
       "53. Children age 9-59 months who received a vitamin A dose in last 6 months (%)                  0.437511\n",
       "62. Children under age 3 years breastfed within one hour of birth8 (%)                           0.085891\n",
       "65. Breastfeeding children age 6-23 months receiving an adequate diet9 10 (%)                   -0.129157\n",
       "67. Total children age 6-23 months receiving an adequate diet9 10 (%)                           -0.084873\n",
       "68. Children under 5 years who are stunted11 (%)                                                -0.291152\n",
       "72. Women whose Body Mass Index (BMI) is below normal (BMI <18.5 kg/m2) (%)                     -0.055750\n",
       "76. Children age 6-59 months who are anaemic (<11.0 g/dl) (%)                                    0.157759\n",
       "79. All women age 15-49 years who are anaemic (%)                                                0.168470\n",
       "91. Cervix (%)                                                                                   0.467667\n",
       "92. Breast (%)                                                                                   0.362899\n",
       "93. Oral cavity (%)                                                                              0.254251\n",
       "Name: 19. Any modern method (%), dtype: float64"
      ]
     },
     "execution_count": 1,
     "metadata": {},
     "output_type": "execute_result"
    }
   ],
   "source": [
    "import pandas as pd\n",
    "import numpy as np\n",
    "import matplotlib.pyplot as plt\n",
    "from matplotlib import rc\n",
    "df = pd.read_csv('./../Data/working_data/normalised_data_6.csv')\n",
    "df.drop(df.columns[[0]], axis = 1, inplace = True) \n",
    "\n",
    "pd.set_option('display.max_columns', 30)\n",
    "df.corr()['19. Any modern method (%)']"
   ]
  },
  {
   "cell_type": "code",
   "execution_count": 2,
   "metadata": {},
   "outputs": [],
   "source": [
    "attributes_contraception = ['19. Any modern method (%)','12. Women who are literate (%)',\n",
    " '13. Men who are literate (%)' , \n",
    "'14. Women with 10 or more years of schooling (%)' ,\n",
    "'30. Mothers who had at least 4 antenatal care visits (%)' , '40. Institutional births (%)' ,\n",
    "'53. Children age 9-59 months who received a vitamin A dose in last 6 months (%)',\n",
    "'32. Mothers who consumed iron folic acid for 100 days or more when they were pregnant (%)',\n",
    " '47. Children age 12-23 months fully immunized (BCG measles and 3 doses each of polio/DPT) (%)',\n",
    "                            '91. Cervix (%)' , '92. Breast (%)' ]\n"
   ]
  },
  {
   "cell_type": "code",
   "execution_count": 3,
   "metadata": {},
   "outputs": [
    {
     "data": {
      "text/plain": [
       "11"
      ]
     },
     "execution_count": 3,
     "metadata": {},
     "output_type": "execute_result"
    }
   ],
   "source": [
    "len(attributes_contraception)"
   ]
  },
  {
   "cell_type": "markdown",
   "metadata": {},
   "source": [
    "**We will be carrying out clustering and association rule mining to analyse the effect of contraception awareness on the above mentioned attributes**"
   ]
  },
  {
   "cell_type": "markdown",
   "metadata": {},
   "source": [
    "# 2. Clustering Analysis  "
   ]
  },
  {
   "cell_type": "markdown",
   "metadata": {},
   "source": [
    "## 2.1 K-Means Clustering Implementation"
   ]
  },
  {
   "cell_type": "code",
   "execution_count": 4,
   "metadata": {},
   "outputs": [],
   "source": [
    "\n",
    "\n",
    "#function to assign clusters\n",
    "def AssignClusters(df,centroids):\n",
    "  assigned_clusters={}\n",
    "  N = df.shape[0]\n",
    "  k = len(centroids.keys())\n",
    "  for i in range(N):\n",
    "    distances={}\n",
    "    for j in range(k):\n",
    "      distances[j+1]=np.linalg.norm(df.iloc[i].to_numpy()-centroids[j+1])\n",
    "    minval = min(distances.values())\n",
    "    res = [k for k, v in distances.items() if v==minval]\n",
    "    assigned_clusters[i]=res[0]\n",
    "    distances.clear()\n",
    "\n",
    "  return assigned_clusters\n",
    "\n",
    "def centeroidnp(arr):\n",
    "    length, dim = arr.shape\n",
    "    return np.array([np.sum(arr[:, i])/length for i in range(dim)])\n",
    "\n",
    "#function to update centroids\n",
    "def update(df,l,assigned_clusters):\n",
    "\n",
    "  N = len(assigned_clusters.keys())\n",
    "  k = len(l.keys())\n",
    "  for j in range(k):\n",
    "    datapoints=[]\n",
    "    for i in range(N):\n",
    "      if(assigned_clusters[i]==j+1):\n",
    "        datapoints.append(df.iloc[i].tolist())\n",
    "    datapointsArray = np.asarray(datapoints)\n",
    "    \n",
    "    l[j+1]=centeroidnp(datapointsArray).tolist()\n",
    "\n",
    "  return l\n",
    "\n",
    "#Function to perform K means clustering on the data frame df and the desired number of clusters = num_clusters\n",
    "def KMeansClustering(df, num_clusters):\n",
    "    #N is the number of samples\n",
    "    #D is the number of features\n",
    "    N, D = df.shape\n",
    "    \n",
    "    np.random.seed(450)\n",
    "    k = num_clusters\n",
    "\n",
    "    \n",
    "    # centroids[i] = [x1,x2,x3 . .. . .. . xD]\n",
    "    centroids = {\n",
    "    \n",
    "        i+1 : df.iloc[np.random.randint(0,N)].tolist()\n",
    "        for i in range(k)\n",
    "\n",
    "    }\n",
    "    #centroids contains K randomly selected data points \n",
    "  \n",
    "\n",
    "    #Assign clusters to each data point.\n",
    "    assigned_clusters=AssignClusters(df,centroids)\n",
    " \n",
    "    #Update Centroids\n",
    "    centroids=update(df,centroids,assigned_clusters)\n",
    "    \n",
    "    #Repeating assignment stage...\n",
    "    assigned_clusters=AssignClusters(df,centroids)\n",
    "    \n",
    "    itr = 0\n",
    "    while True:\n",
    "      clusters=assigned_clusters.copy()\n",
    "    \n",
    "      centroids = update(df,centroids,assigned_clusters)\n",
    "        \n",
    "      assigned_clusters = AssignClusters(df, centroids)\n",
    " \n",
    "      if(clusters==assigned_clusters or itr==1000):\n",
    "        break\n",
    "        \n",
    "      itr+=1\n",
    "\n",
    "    return list(clusters.values()), list(centroids.values())"
   ]
  },
  {
   "cell_type": "markdown",
   "metadata": {},
   "source": [
    "## 2.2 Loading the required dataframes"
   ]
  },
  {
   "cell_type": "code",
   "execution_count": 5,
   "metadata": {},
   "outputs": [
    {
     "data": {
      "text/plain": [
       "Index(['19. Any modern method (%)', '12. Women who are literate (%)',\n",
       "       '13. Men who are literate (%)',\n",
       "       '14. Women with 10 or more years of schooling (%)',\n",
       "       '30. Mothers who had at least 4 antenatal care visits (%)',\n",
       "       '40. Institutional births (%)',\n",
       "       '53. Children age 9-59 months who received a vitamin A dose in last 6 months (%)',\n",
       "       '32. Mothers who consumed iron folic acid for 100 days or more when they were pregnant (%)',\n",
       "       '47. Children age 12-23 months fully immunized (BCG measles and 3 doses each of polio/DPT) (%)',\n",
       "       '91. Cervix (%)', '92. Breast (%)'],\n",
       "      dtype='object')"
      ]
     },
     "execution_count": 5,
     "metadata": {},
     "output_type": "execute_result"
    }
   ],
   "source": [
    "#since dataframe df contained the normalised data, we will load the same into df_normalised. The input for k-means clustering should be normalised\n",
    "df_normalised = df[attributes_contraception]\n",
    "df_normalised.columns"
   ]
  },
  {
   "cell_type": "code",
   "execution_count": 6,
   "metadata": {},
   "outputs": [],
   "source": [
    "#load discrete values in df_discrete\n",
    "df_discrete = pd.read_csv('./../Data/working_data/equal_frequency_discretised_data_7.csv')\n",
    "df_discrete.drop(df_discrete.columns[[0]], axis = 1, inplace = True) \n"
   ]
  },
  {
   "cell_type": "markdown",
   "metadata": {},
   "source": [
    "## 2.3 clustering on the basis of contraception awareness: % of women using any modern method of contraception"
   ]
  },
  {
   "cell_type": "code",
   "execution_count": 7,
   "metadata": {},
   "outputs": [
    {
     "name": "stderr",
     "output_type": "stream",
     "text": [
      "/opt/anaconda3/lib/python3.7/site-packages/ipykernel_launcher.py:3: SettingWithCopyWarning: \n",
      "A value is trying to be set on a copy of a slice from a DataFrame.\n",
      "Try using .loc[row_indexer,col_indexer] = value instead\n",
      "\n",
      "See the caveats in the documentation: http://pandas.pydata.org/pandas-docs/stable/user_guide/indexing.html#returning-a-view-versus-a-copy\n",
      "  This is separate from the ipykernel package so we can avoid doing imports until\n"
     ]
    }
   ],
   "source": [
    "\n",
    "df_cluster_1 = df_normalised[['19. Any modern method (%)']]\n",
    "cluster_labels, cluster_centers = KMeansClustering(df_cluster_1, 3)\n",
    "df_cluster_1['cluster labels'] = cluster_labels\n"
   ]
  },
  {
   "cell_type": "code",
   "execution_count": 8,
   "metadata": {},
   "outputs": [
    {
     "data": {
      "text/plain": [
       "[[-1.2176350736178], [1.1332961825396606], [0.03858522666000667]]"
      ]
     },
     "execution_count": 8,
     "metadata": {},
     "output_type": "execute_result"
    }
   ],
   "source": [
    "cluster_centers"
   ]
  },
  {
   "cell_type": "markdown",
   "metadata": {},
   "source": [
    "**The cluster centers indicate that the clusters 0 , 1 and 2 correspond to districts having low , high and medium  % of women using modern methods of contraception**"
   ]
  },
  {
   "cell_type": "markdown",
   "metadata": {},
   "source": [
    "## Influence of contraception awareness in mothers on child immunisation rates"
   ]
  },
  {
   "cell_type": "code",
   "execution_count": 9,
   "metadata": {},
   "outputs": [
    {
     "name": "stderr",
     "output_type": "stream",
     "text": [
      "/opt/anaconda3/lib/python3.7/site-packages/ipykernel_launcher.py:1: SettingWithCopyWarning: \n",
      "A value is trying to be set on a copy of a slice from a DataFrame.\n",
      "Try using .loc[row_indexer,col_indexer] = value instead\n",
      "\n",
      "See the caveats in the documentation: http://pandas.pydata.org/pandas-docs/stable/user_guide/indexing.html#returning-a-view-versus-a-copy\n",
      "  \"\"\"Entry point for launching an IPython kernel.\n"
     ]
    }
   ],
   "source": [
    "df_cluster_1['47. Children age 12-23 months fully immunized (BCG measles and 3 doses each of polio/DPT) (%)']= df_discrete['47. Children age 12-23 months fully immunized (BCG measles and 3 doses each of polio/DPT) (%)'].tolist()"
   ]
  },
  {
   "cell_type": "code",
   "execution_count": 10,
   "metadata": {
    "scrolled": true
   },
   "outputs": [
    {
     "name": "stdout",
     "output_type": "stream",
     "text": [
      "C0\n",
      "0.5128205128205128\n",
      "0.3282051282051282\n",
      "0.15897435897435896\n",
      "C1\n",
      "0.1417910447761194\n",
      "0.3333333333333333\n",
      "0.5248756218905473\n",
      "C2\n",
      "0.348\n",
      "0.336\n",
      "0.316\n"
     ]
    }
   ],
   "source": [
    "\n",
    "\n",
    "#separate dataframes for points belonging to each cluster\n",
    "dfC0 = df_cluster_1[df_cluster_1['cluster labels']==1]\n",
    "dfC1 = df_cluster_1[df_cluster_1['cluster labels']==2]\n",
    "dfC2 = df_cluster_1[df_cluster_1['cluster labels']==3]\n",
    "\n",
    "l,m,h=0,0,0\n",
    "# for each cluster, find the proportion of points that belong to low, medium and high target categories.\n",
    "l = dfC0[dfC0['47. Children age 12-23 months fully immunized (BCG measles and 3 doses each of polio/DPT) (%)']=='low'].shape[0]/dfC0.shape[0]\n",
    "m = dfC0[dfC0['47. Children age 12-23 months fully immunized (BCG measles and 3 doses each of polio/DPT) (%)']=='medium'].shape[0]/dfC0.shape[0]\n",
    "h = dfC0[dfC0['47. Children age 12-23 months fully immunized (BCG measles and 3 doses each of polio/DPT) (%)']=='high'].shape[0]/dfC0.shape[0]\n",
    "print(\"C0\")\n",
    "print(l)\n",
    "print(m)\n",
    "print(h)\n",
    "\n",
    "l = dfC1[dfC1['47. Children age 12-23 months fully immunized (BCG measles and 3 doses each of polio/DPT) (%)']=='low'].shape[0]/dfC1.shape[0]\n",
    "m = dfC1[dfC1['47. Children age 12-23 months fully immunized (BCG measles and 3 doses each of polio/DPT) (%)']=='medium'].shape[0]/dfC1.shape[0]\n",
    "h = dfC1[dfC1['47. Children age 12-23 months fully immunized (BCG measles and 3 doses each of polio/DPT) (%)']=='high'].shape[0]/dfC1.shape[0]\n",
    "print(\"C1\")\n",
    "print(l)\n",
    "print(m)\n",
    "print(h)\n",
    "\n",
    "l = dfC2[dfC2['47. Children age 12-23 months fully immunized (BCG measles and 3 doses each of polio/DPT) (%)']=='low'].shape[0]/dfC2.shape[0]\n",
    "m = dfC2[dfC2['47. Children age 12-23 months fully immunized (BCG measles and 3 doses each of polio/DPT) (%)']=='medium'].shape[0]/dfC2.shape[0]\n",
    "h = dfC2[dfC2['47. Children age 12-23 months fully immunized (BCG measles and 3 doses each of polio/DPT) (%)']=='high'].shape[0]/dfC2.shape[0]\n",
    "print(\"C2\")\n",
    "print(l)\n",
    "print(m)\n",
    "print(h)"
   ]
  },
  {
   "cell_type": "markdown",
   "metadata": {},
   "source": [
    "It is clear that of all the districts that belong to cluster 0 (corresponding to low % of women using modern methods of contraception ), 51.2% have 'low' child immunisation rates, and a 15.8% have 'high' immunisation rates. On the other hand, of all the points that belong to  cluster 1,(corresponding to high % of f women using modern methods of contraception), 52.4% have 'high' immunisation rates and 14% have 'low'  immunisation rates. <br>\n",
    "**Contraceptive awareness has a significant effect on child immunisation rates.**\n"
   ]
  },
  {
   "cell_type": "code",
   "execution_count": 11,
   "metadata": {},
   "outputs": [],
   "source": [
    "df11=df_cluster_1.loc[df_cluster_1['cluster labels']==1]\n",
    "dfc011=df11.loc[df11['47. Children age 12-23 months fully immunized (BCG measles and 3 doses each of polio/DPT) (%)']=='low']\n",
    "dfc111=df11.loc[df11['47. Children age 12-23 months fully immunized (BCG measles and 3 doses each of polio/DPT) (%)']=='medium']\n",
    "dfc211=df11.loc[df11['47. Children age 12-23 months fully immunized (BCG measles and 3 doses each of polio/DPT) (%)']=='high']\n",
    "\n",
    "df21=df_cluster_1.loc[df_cluster_1['cluster labels']==2]\n",
    "dfc021=df21.loc[df21['47. Children age 12-23 months fully immunized (BCG measles and 3 doses each of polio/DPT) (%)']=='low']\n",
    "dfc121=df21.loc[df21['47. Children age 12-23 months fully immunized (BCG measles and 3 doses each of polio/DPT) (%)']=='medium']\n",
    "dfc221=df21.loc[df21['47. Children age 12-23 months fully immunized (BCG measles and 3 doses each of polio/DPT) (%)']=='high']\n",
    "\n",
    "df31=df_cluster_1.loc[df_cluster_1['cluster labels']==3]\n",
    "dfc031=df31.loc[df31['47. Children age 12-23 months fully immunized (BCG measles and 3 doses each of polio/DPT) (%)']=='low']\n",
    "dfc131=df31.loc[df31['47. Children age 12-23 months fully immunized (BCG measles and 3 doses each of polio/DPT) (%)']=='medium']\n",
    "dfc231=df31.loc[df31['47. Children age 12-23 months fully immunized (BCG measles and 3 doses each of polio/DPT) (%)']=='high']"
   ]
  },
  {
   "cell_type": "code",
   "execution_count": 12,
   "metadata": {},
   "outputs": [
    {
     "data": {
      "image/png": "[encoded data removed]",
      "text/plain": [
       "<Figure size 432x288 with 1 Axes>"
      ]
     },
     "metadata": {
      "needs_background": "light"
     },
     "output_type": "display_data"
    }
   ],
   "source": [
    "\n",
    "# y-axis in bold\n",
    "rc('font', weight='bold')\n",
    " \n",
    "# Values of each group\n",
    "bars1 = [dfc011['47. Children age 12-23 months fully immunized (BCG measles and 3 doses each of polio/DPT) (%)'].value_counts().values.mean(),\n",
    "         dfc021['47. Children age 12-23 months fully immunized (BCG measles and 3 doses each of polio/DPT) (%)'].value_counts().values.mean(),\n",
    "         dfc031['47. Children age 12-23 months fully immunized (BCG measles and 3 doses each of polio/DPT) (%)'].value_counts().values.mean()]\n",
    "\n",
    "\n",
    "bars2 = [dfc111['47. Children age 12-23 months fully immunized (BCG measles and 3 doses each of polio/DPT) (%)'].value_counts().values.mean(),\n",
    "        dfc121['47. Children age 12-23 months fully immunized (BCG measles and 3 doses each of polio/DPT) (%)'].value_counts().values.mean(),\n",
    "        dfc131['47. Children age 12-23 months fully immunized (BCG measles and 3 doses each of polio/DPT) (%)'].value_counts().values.mean()]\n",
    "\n",
    "\n",
    "bars3 = [dfc211['47. Children age 12-23 months fully immunized (BCG measles and 3 doses each of polio/DPT) (%)'].value_counts().values.mean(),\n",
    "        dfc221['47. Children age 12-23 months fully immunized (BCG measles and 3 doses each of polio/DPT) (%)'].value_counts().values.mean(),\n",
    "        dfc231['47. Children age 12-23 months fully immunized (BCG measles and 3 doses each of polio/DPT) (%)'].value_counts().values.mean()]\n",
    " \n",
    "# Heights of bars1 + bars2\n",
    "bars = np.add(bars1, bars2).tolist()\n",
    " \n",
    "# The position of the bars on the x-axis\n",
    "r = [0,1,2]\n",
    " \n",
    "# Names of group and bar width\n",
    "names = ['low contr %','high contr %','medium contr %']\n",
    "barWidth = 0.5\n",
    " \n",
    "# Create brown bars\n",
    "plt.bar(r, bars1, color='xkcd:aquamarine', edgecolor='black', width=barWidth, label='low %immunization')\n",
    "# Create green bars (middle), on top of the firs ones\n",
    "plt.bar(r, bars2, bottom=bars1, color= 'xkcd:goldenrod', edgecolor='black', width=barWidth, label='Medium %immunization')\n",
    "# Create green bars (top)\n",
    "plt.bar(r, bars3, bottom=bars, color='xkcd:maroon', edgecolor='black', width=barWidth, label='High %immunization')\n",
    " \n",
    "# Custom X axis\n",
    "plt.xticks(r, names, fontweight='bold')\n",
    "plt.xlabel(\"Contraception usage and immunization awareness \", weight='bold')\n",
    "plt.legend(loc=0, ncol=2)\n",
    " \n",
    "# Show graphic\n",
    "plt.savefig('./../Plots/RESULT PLOTS/plot17.png')\n",
    "plt.show()"
   ]
  },
  {
   "cell_type": "markdown",
   "metadata": {},
   "source": [
    "## Influence of contraception awareness in mothers on % of children who received vitamin A dose"
   ]
  },
  {
   "cell_type": "code",
   "execution_count": 13,
   "metadata": {},
   "outputs": [
    {
     "name": "stderr",
     "output_type": "stream",
     "text": [
      "/opt/anaconda3/lib/python3.7/site-packages/ipykernel_launcher.py:1: SettingWithCopyWarning: \n",
      "A value is trying to be set on a copy of a slice from a DataFrame.\n",
      "Try using .loc[row_indexer,col_indexer] = value instead\n",
      "\n",
      "See the caveats in the documentation: http://pandas.pydata.org/pandas-docs/stable/user_guide/indexing.html#returning-a-view-versus-a-copy\n",
      "  \"\"\"Entry point for launching an IPython kernel.\n"
     ]
    }
   ],
   "source": [
    "df_cluster_1['53. Children age 9-59 months who received a vitamin A dose in last 6 months (%)']  = df_discrete['53. Children age 9-59 months who received a vitamin A dose in last 6 months (%)'].tolist()"
   ]
  },
  {
   "cell_type": "code",
   "execution_count": 14,
   "metadata": {},
   "outputs": [
    {
     "name": "stdout",
     "output_type": "stream",
     "text": [
      "C0\n",
      "0.5051282051282051\n",
      "0.34615384615384615\n",
      "0.14871794871794872\n",
      "C1\n",
      "0.12935323383084577\n",
      "0.34577114427860695\n",
      "0.5248756218905473\n",
      "C2\n",
      "0.364\n",
      "0.312\n",
      "0.324\n"
     ]
    }
   ],
   "source": [
    "dfC0 = df_cluster_1[df_cluster_1['cluster labels']==1]\n",
    "dfC1 = df_cluster_1[df_cluster_1['cluster labels']==2]\n",
    "dfC2 = df_cluster_1[df_cluster_1['cluster labels']==3]\n",
    "\n",
    "l,m,h=0,0,0\n",
    "\n",
    "l = dfC0[dfC0['53. Children age 9-59 months who received a vitamin A dose in last 6 months (%)']=='low'].shape[0]/dfC0.shape[0]\n",
    "m = dfC0[dfC0['53. Children age 9-59 months who received a vitamin A dose in last 6 months (%)']=='medium'].shape[0]/dfC0.shape[0]\n",
    "h = dfC0[dfC0['53. Children age 9-59 months who received a vitamin A dose in last 6 months (%)']=='high'].shape[0]/dfC0.shape[0]\n",
    "print(\"C0\")\n",
    "print(l)\n",
    "print(m)\n",
    "print(h)\n",
    "\n",
    "l = dfC1[dfC1['53. Children age 9-59 months who received a vitamin A dose in last 6 months (%)']=='low'].shape[0]/dfC1.shape[0]\n",
    "m = dfC1[dfC1['53. Children age 9-59 months who received a vitamin A dose in last 6 months (%)']=='medium'].shape[0]/dfC1.shape[0]\n",
    "h = dfC1[dfC1['53. Children age 9-59 months who received a vitamin A dose in last 6 months (%)']=='high'].shape[0]/dfC1.shape[0]\n",
    "print(\"C1\")\n",
    "print(l)\n",
    "print(m)\n",
    "print(h)\n",
    "\n",
    "l = dfC2[dfC2['53. Children age 9-59 months who received a vitamin A dose in last 6 months (%)']=='low'].shape[0]/dfC2.shape[0]\n",
    "m = dfC2[dfC2['53. Children age 9-59 months who received a vitamin A dose in last 6 months (%)']=='medium'].shape[0]/dfC2.shape[0]\n",
    "h = dfC2[dfC2['53. Children age 9-59 months who received a vitamin A dose in last 6 months (%)']=='high'].shape[0]/dfC2.shape[0]\n",
    "print(\"C2\")\n",
    "print(l)\n",
    "print(m)\n",
    "print(h)"
   ]
  },
  {
   "cell_type": "markdown",
   "metadata": {},
   "source": [
    "\n",
    "It is clear that of all the districts that belong to cluster 0 (corresponding to low % of women using modern methods of contraception ), 50.5% have 'low' % of children who received vitamin A dose, and only 14.8 % have 'high' percentage for the same. On the other hand, of all the points that belong to  cluster 1,(corresponding to high % of f women using modern methods of contraception), 52.4% have 'high' % of children who received vitamin A dose and 14% have 'low'  % of children who received vitamin A dose.\n",
    "\n"
   ]
  },
  {
   "cell_type": "code",
   "execution_count": 15,
   "metadata": {},
   "outputs": [],
   "source": [
    "df11=df_cluster_1.loc[df_cluster_1['cluster labels']==1]#low\n",
    "dfc011=df11.loc[df11['53. Children age 9-59 months who received a vitamin A dose in last 6 months (%)']=='low']\n",
    "dfc111=df11.loc[df11['53. Children age 9-59 months who received a vitamin A dose in last 6 months (%)']=='medium']\n",
    "dfc211=df11.loc[df11['53. Children age 9-59 months who received a vitamin A dose in last 6 months (%)']=='high']\n",
    "\n",
    "df21=df_cluster_1.loc[df_cluster_1['cluster labels']==2]#high\n",
    "dfc021=df21.loc[df21['53. Children age 9-59 months who received a vitamin A dose in last 6 months (%)']=='low']\n",
    "dfc121=df21.loc[df21['53. Children age 9-59 months who received a vitamin A dose in last 6 months (%)']=='medium']\n",
    "dfc221=df21.loc[df21['53. Children age 9-59 months who received a vitamin A dose in last 6 months (%)']=='high']\n",
    "\n",
    "df31=df_cluster_1.loc[df_cluster_1['cluster labels']==3]#medium\n",
    "dfc031=df31.loc[df31['53. Children age 9-59 months who received a vitamin A dose in last 6 months (%)']=='low']\n",
    "dfc131=df31.loc[df31['53. Children age 9-59 months who received a vitamin A dose in last 6 months (%)']=='medium']\n",
    "dfc231=df31.loc[df31['53. Children age 9-59 months who received a vitamin A dose in last 6 months (%)']=='high']"
   ]
  },
  {
   "cell_type": "code",
   "execution_count": 16,
   "metadata": {},
   "outputs": [
    {
     "data": {
      "image/png": "[encoded data removed]",
      "text/plain": [
       "<Figure size 432x288 with 1 Axes>"
      ]
     },
     "metadata": {
      "needs_background": "light"
     },
     "output_type": "display_data"
    }
   ],
   "source": [
    " \n",
    "# y-axis in bold\n",
    "rc('font', weight='bold')\n",
    " \n",
    "# Values of each group\n",
    "bars1 = [dfc011['53. Children age 9-59 months who received a vitamin A dose in last 6 months (%)'].value_counts().values.mean(),\n",
    "         dfc021['53. Children age 9-59 months who received a vitamin A dose in last 6 months (%)'].value_counts().values.mean(),\n",
    "         dfc031['53. Children age 9-59 months who received a vitamin A dose in last 6 months (%)'].value_counts().values.mean()]\n",
    "\n",
    "\n",
    "bars2 = [dfc111['53. Children age 9-59 months who received a vitamin A dose in last 6 months (%)'].value_counts().values.mean(),\n",
    "        dfc121['53. Children age 9-59 months who received a vitamin A dose in last 6 months (%)'].value_counts().values.mean(),\n",
    "        dfc131['53. Children age 9-59 months who received a vitamin A dose in last 6 months (%)'].value_counts().values.mean()]\n",
    "\n",
    "\n",
    "bars3 = [dfc211['53. Children age 9-59 months who received a vitamin A dose in last 6 months (%)'].value_counts().values.mean(),\n",
    "        dfc221['53. Children age 9-59 months who received a vitamin A dose in last 6 months (%)'].value_counts().values.mean(),\n",
    "        dfc231['53. Children age 9-59 months who received a vitamin A dose in last 6 months (%)'].value_counts().values.mean()]\n",
    " \n",
    "# Heights of bars1 + bars2\n",
    "bars = np.add(bars1, bars2).tolist()\n",
    " \n",
    "# The position of the bars on the x-axis\n",
    "r = [0,1,2]\n",
    " \n",
    "# Names of group and bar width\n",
    "names = ['low contr %','high contr %','medium contr %']\n",
    "barWidth = 0.5\n",
    " \n",
    "# Create brown bars\n",
    "plt.bar(r, bars1, color='xkcd:tan', edgecolor='black', width=barWidth, label='low % vit A')\n",
    "# Create green bars (middle), on top of the firs ones\n",
    "plt.bar(r, bars2, bottom=bars1, color= 'xkcd:lime', edgecolor='black', width=barWidth, label='Medium % vit A')\n",
    "# Create green bars (top)\n",
    "plt.bar(r, bars3, bottom=bars, color='xkcd:fuchsia', edgecolor='black', width=barWidth, label='High % vit A')\n",
    " \n",
    "# Custom X axis\n",
    "plt.xticks(r, names, fontweight='bold')\n",
    "plt.xlabel(\"Contraception usage and awareness for babies' vitamins needs \", weight='bold')\n",
    "plt.legend(loc=0, ncol=2)\n",
    " \n",
    "# Show graphic\n",
    "plt.savefig('./../Plots/RESULT PLOTS/plot18.png')\n",
    "plt.show()"
   ]
  },
  {
   "cell_type": "markdown",
   "metadata": {},
   "source": [
    "## Influence of contraception awareness in mothers on % of  Mothers who had at least 4 antenatal care visits"
   ]
  },
  {
   "cell_type": "code",
   "execution_count": 17,
   "metadata": {},
   "outputs": [
    {
     "name": "stderr",
     "output_type": "stream",
     "text": [
      "/opt/anaconda3/lib/python3.7/site-packages/ipykernel_launcher.py:1: SettingWithCopyWarning: \n",
      "A value is trying to be set on a copy of a slice from a DataFrame.\n",
      "Try using .loc[row_indexer,col_indexer] = value instead\n",
      "\n",
      "See the caveats in the documentation: http://pandas.pydata.org/pandas-docs/stable/user_guide/indexing.html#returning-a-view-versus-a-copy\n",
      "  \"\"\"Entry point for launching an IPython kernel.\n"
     ]
    }
   ],
   "source": [
    "df_cluster_1['30. Mothers who had at least 4 antenatal care visits (%)'] = df_discrete['30. Mothers who had at least 4 antenatal care visits (%)'].tolist()"
   ]
  },
  {
   "cell_type": "code",
   "execution_count": 18,
   "metadata": {},
   "outputs": [
    {
     "name": "stdout",
     "output_type": "stream",
     "text": [
      "C0\n",
      "0.6743589743589744\n",
      "0.2153846153846154\n",
      "0.11025641025641025\n",
      "C1\n",
      "0.1044776119402985\n",
      "0.3482587064676617\n",
      "0.5472636815920398\n",
      "C2\n",
      "0.252\n",
      "0.412\n",
      "0.336\n"
     ]
    }
   ],
   "source": [
    "dfC0 = df_cluster_1[df_cluster_1['cluster labels']==1]\n",
    "dfC1 = df_cluster_1[df_cluster_1['cluster labels']==2]\n",
    "dfC2 = df_cluster_1[df_cluster_1['cluster labels']==3]\n",
    "\n",
    "l,m,h=0,0,0\n",
    "\n",
    "l = dfC0[dfC0['30. Mothers who had at least 4 antenatal care visits (%)']=='low'].shape[0]/dfC0.shape[0]\n",
    "m = dfC0[dfC0['30. Mothers who had at least 4 antenatal care visits (%)']=='medium'].shape[0]/dfC0.shape[0]\n",
    "h = dfC0[dfC0['30. Mothers who had at least 4 antenatal care visits (%)']=='high'].shape[0]/dfC0.shape[0]\n",
    "print(\"C0\")\n",
    "print(l)\n",
    "print(m)\n",
    "print(h)\n",
    "\n",
    "l = dfC1[dfC1['30. Mothers who had at least 4 antenatal care visits (%)']=='low'].shape[0]/dfC1.shape[0]\n",
    "m = dfC1[dfC1['30. Mothers who had at least 4 antenatal care visits (%)']=='medium'].shape[0]/dfC1.shape[0]\n",
    "h = dfC1[dfC1['30. Mothers who had at least 4 antenatal care visits (%)']=='high'].shape[0]/dfC1.shape[0]\n",
    "print(\"C1\")\n",
    "print(l)\n",
    "print(m)\n",
    "print(h)\n",
    "\n",
    "l = dfC2[dfC2['30. Mothers who had at least 4 antenatal care visits (%)']=='low'].shape[0]/dfC2.shape[0]\n",
    "m = dfC2[dfC2['30. Mothers who had at least 4 antenatal care visits (%)']=='medium'].shape[0]/dfC2.shape[0]\n",
    "h = dfC2[dfC2['30. Mothers who had at least 4 antenatal care visits (%)']=='high'].shape[0]/dfC2.shape[0]\n",
    "print(\"C2\")\n",
    "print(l)\n",
    "print(m)\n",
    "print(h)"
   ]
  },
  {
   "cell_type": "markdown",
   "metadata": {},
   "source": [
    "It is clear that of all the districts that belong to cluster 0 (corresponding to low % of women using modern methods of contraception ), 67.4% have 'low' % of women who had atleast 4 antenatal care visits, and only 11 % have 'high' percentage of the same. On the other hand, of all the districts that belong to  cluster 1,(corresponding to high % of  women using modern methods of contraception), 54.7% have 'high' % of women who had atleast 4 antenatal care visits  and only 10% have 'low' % of women who had atleast 4 antenatal care visits.\n",
    "\n",
    "**Women who are aware about the use of contraceptives, are more concerned about family planning and hence take better decisions about their maternal health (during pregnancy).**\n"
   ]
  },
  {
   "cell_type": "code",
   "execution_count": 19,
   "metadata": {},
   "outputs": [],
   "source": [
    "df11=df_cluster_1.loc[df_cluster_1['cluster labels']==1]#low\n",
    "dfc011=df11.loc[df11['30. Mothers who had at least 4 antenatal care visits (%)']=='low']\n",
    "dfc111=df11.loc[df11['30. Mothers who had at least 4 antenatal care visits (%)']=='medium']\n",
    "dfc211=df11.loc[df11['30. Mothers who had at least 4 antenatal care visits (%)']=='high']\n",
    "\n",
    "df21=df_cluster_1.loc[df_cluster_1['cluster labels']==2]#high\n",
    "dfc021=df21.loc[df21['30. Mothers who had at least 4 antenatal care visits (%)']=='low']\n",
    "dfc121=df21.loc[df21['30. Mothers who had at least 4 antenatal care visits (%)']=='medium']\n",
    "dfc221=df21.loc[df21['30. Mothers who had at least 4 antenatal care visits (%)']=='high']\n",
    "\n",
    "df31=df_cluster_1.loc[df_cluster_1['cluster labels']==3]#medium\n",
    "dfc031=df31.loc[df31['30. Mothers who had at least 4 antenatal care visits (%)']=='low']\n",
    "dfc131=df31.loc[df31['30. Mothers who had at least 4 antenatal care visits (%)']=='medium']\n",
    "dfc231=df31.loc[df31['30. Mothers who had at least 4 antenatal care visits (%)']=='high']"
   ]
  },
  {
   "cell_type": "code",
   "execution_count": 20,
   "metadata": {},
   "outputs": [
    {
     "data": {
      "image/png": "[encoded data removed]",
      "text/plain": [
       "<Figure size 432x288 with 1 Axes>"
      ]
     },
     "metadata": {
      "needs_background": "light"
     },
     "output_type": "display_data"
    }
   ],
   "source": [
    " \n",
    "# y-axis in bold\n",
    "rc('font', weight='bold')\n",
    " \n",
    "# Values of each group\n",
    "bars1 = [dfc011['30. Mothers who had at least 4 antenatal care visits (%)'].value_counts().values.mean(),\n",
    "         dfc021['30. Mothers who had at least 4 antenatal care visits (%)'].value_counts().values.mean(),\n",
    "         dfc031['30. Mothers who had at least 4 antenatal care visits (%)'].value_counts().values.mean()]\n",
    "\n",
    "\n",
    "bars2 = [dfc111['30. Mothers who had at least 4 antenatal care visits (%)'].value_counts().values.mean(),\n",
    "        dfc121['30. Mothers who had at least 4 antenatal care visits (%)'].value_counts().values.mean(),\n",
    "        dfc131['30. Mothers who had at least 4 antenatal care visits (%)'].value_counts().values.mean()]\n",
    "\n",
    "\n",
    "bars3 = [dfc211['30. Mothers who had at least 4 antenatal care visits (%)'].value_counts().values.mean(),\n",
    "        dfc221['30. Mothers who had at least 4 antenatal care visits (%)'].value_counts().values.mean(),\n",
    "        dfc231['30. Mothers who had at least 4 antenatal care visits (%)'].value_counts().values.mean()]\n",
    " \n",
    "# Heights of bars1 + bars2\n",
    "bars = np.add(bars1, bars2).tolist()\n",
    " \n",
    "# The position of the bars on the x-axis\n",
    "r = [0,1,2]\n",
    " \n",
    "# Names of group and bar width\n",
    "names = ['low contr %','high contr %','medium contr %']\n",
    "barWidth = 0.5\n",
    " \n",
    "# Create brown bars\n",
    "plt.bar(r, bars1, color='xkcd:teal', edgecolor='black', width=barWidth, label='low % vit A')\n",
    "# Create green bars (middle), on top of the firs ones\n",
    "plt.bar(r, bars2, bottom=bars1, color= 'xkcd:coral', edgecolor='black', width=barWidth, label='Medium % vit A')\n",
    "# Create green bars (top)\n",
    "plt.bar(r, bars3, bottom=bars, color='xkcd:gold', edgecolor='black', width=barWidth, label='High % vit A')\n",
    " \n",
    "# Custom X axis\n",
    "plt.xticks(r, names, fontweight='bold')\n",
    "plt.xlabel(\"Contraception usage and awareness for babies' vitamins needs \", weight='bold')\n",
    "plt.legend(loc=0, ncol=2)\n",
    " \n",
    "# Show graphic\n",
    "plt.savefig('./../Plots/RESULT PLOTS/plot19.png')\n",
    "plt.show()"
   ]
  },
  {
   "cell_type": "markdown",
   "metadata": {},
   "source": [
    "## Influence of contraception awareness in mothers on % of Institutional births (eg. Hospitals)"
   ]
  },
  {
   "cell_type": "code",
   "execution_count": 21,
   "metadata": {},
   "outputs": [
    {
     "name": "stderr",
     "output_type": "stream",
     "text": [
      "/opt/anaconda3/lib/python3.7/site-packages/ipykernel_launcher.py:1: SettingWithCopyWarning: \n",
      "A value is trying to be set on a copy of a slice from a DataFrame.\n",
      "Try using .loc[row_indexer,col_indexer] = value instead\n",
      "\n",
      "See the caveats in the documentation: http://pandas.pydata.org/pandas-docs/stable/user_guide/indexing.html#returning-a-view-versus-a-copy\n",
      "  \"\"\"Entry point for launching an IPython kernel.\n"
     ]
    }
   ],
   "source": [
    "df_cluster_1['40. Institutional births (%)'] = df_discrete['40. Institutional births (%)'].tolist()"
   ]
  },
  {
   "cell_type": "code",
   "execution_count": 22,
   "metadata": {},
   "outputs": [
    {
     "name": "stdout",
     "output_type": "stream",
     "text": [
      "C0\n",
      "0.6230769230769231\n",
      "0.28205128205128205\n",
      "0.09487179487179487\n",
      "C1\n",
      "0.10945273631840796\n",
      "0.3407960199004975\n",
      "0.5497512437810945\n",
      "C2\n",
      "0.29\n",
      "0.364\n",
      "0.346\n"
     ]
    }
   ],
   "source": [
    "dfC0 = df_cluster_1[df_cluster_1['cluster labels']==1]\n",
    "dfC1 = df_cluster_1[df_cluster_1['cluster labels']==2]\n",
    "dfC2 = df_cluster_1[df_cluster_1['cluster labels']==3]\n",
    "\n",
    "l,m,h=0,0,0\n",
    "\n",
    "l = dfC0[dfC0['40. Institutional births (%)']=='low'].shape[0]/dfC0.shape[0]\n",
    "m = dfC0[dfC0['40. Institutional births (%)']=='medium'].shape[0]/dfC0.shape[0]\n",
    "h = dfC0[dfC0['40. Institutional births (%)']=='high'].shape[0]/dfC0.shape[0]\n",
    "print(\"C0\")\n",
    "print(l)\n",
    "print(m)\n",
    "print(h)\n",
    "\n",
    "l = dfC1[dfC1['40. Institutional births (%)']=='low'].shape[0]/dfC1.shape[0]\n",
    "m = dfC1[dfC1['40. Institutional births (%)']=='medium'].shape[0]/dfC1.shape[0]\n",
    "h = dfC1[dfC1['40. Institutional births (%)']=='high'].shape[0]/dfC1.shape[0]\n",
    "print(\"C1\")\n",
    "print(l)\n",
    "print(m)\n",
    "print(h)\n",
    "\n",
    "l = dfC2[dfC2['40. Institutional births (%)']=='low'].shape[0]/dfC2.shape[0]\n",
    "m = dfC2[dfC2['40. Institutional births (%)']=='medium'].shape[0]/dfC2.shape[0]\n",
    "h = dfC2[dfC2['40. Institutional births (%)']=='high'].shape[0]/dfC2.shape[0]\n",
    "print(\"C2\")\n",
    "print(l)\n",
    "print(m)\n",
    "print(h)"
   ]
  },
  {
   "cell_type": "markdown",
   "metadata": {},
   "source": [
    "\n",
    "It is clear that of all the districts that belong to cluster 0 (corresponding to low % of women using modern methods of contraception ), 62.3% have 'low' percentage of institutional births, and only 9.4% have 'high' percentage of institutional births. On the other hand, of all the points that belong to  cluster 1,(corresponding to high % of women using modern methods of contraception), 54.9% have 'high' percentage of institutional births and 10.9% have 'low' percentage of institutional births\n",
    "**Women who are aware about the use of contraceptives, are more concerned about family planning and hence take better decisions about the health of their children by opting for safer delivery options like institutional births.**\n"
   ]
  },
  {
   "cell_type": "code",
   "execution_count": 23,
   "metadata": {},
   "outputs": [],
   "source": [
    "df11=df_cluster_1.loc[df_cluster_1['cluster labels']==1]#low\n",
    "dfc011=df11.loc[df11['40. Institutional births (%)']=='low']\n",
    "dfc111=df11.loc[df11['40. Institutional births (%)']=='medium']\n",
    "dfc211=df11.loc[df11['40. Institutional births (%)']=='high']\n",
    "\n",
    "df21=df_cluster_1.loc[df_cluster_1['cluster labels']==2]#high\n",
    "dfc021=df21.loc[df21['40. Institutional births (%)']=='low']\n",
    "dfc121=df21.loc[df21['40. Institutional births (%)']=='medium']\n",
    "dfc221=df21.loc[df21['40. Institutional births (%)']=='high']\n",
    "\n",
    "df31=df_cluster_1.loc[df_cluster_1['cluster labels']==3]#medium\n",
    "dfc031=df31.loc[df31['40. Institutional births (%)']=='low']\n",
    "dfc131=df31.loc[df31['40. Institutional births (%)']=='medium']\n",
    "dfc231=df31.loc[df31['40. Institutional births (%)']=='high']"
   ]
  },
  {
   "cell_type": "code",
   "execution_count": 24,
   "metadata": {},
   "outputs": [
    {
     "data": {
      "image/png": "[encoded data removed]",
      "text/plain": [
       "<Figure size 432x288 with 1 Axes>"
      ]
     },
     "metadata": {
      "needs_background": "light"
     },
     "output_type": "display_data"
    }
   ],
   "source": [
    " \n",
    "# y-axis in bold\n",
    "rc('font', weight='bold')\n",
    " \n",
    "# Values of each group\n",
    "bars1 = [dfc011['40. Institutional births (%)'].value_counts().values.mean(),\n",
    "         dfc021['40. Institutional births (%)'].value_counts().values.mean(),\n",
    "         dfc031['40. Institutional births (%)'].value_counts().values.mean()]\n",
    "\n",
    "\n",
    "bars2 = [dfc111['40. Institutional births (%)'].value_counts().values.mean(),\n",
    "        dfc121['40. Institutional births (%)'].value_counts().values.mean(),\n",
    "        dfc131['40. Institutional births (%)'].value_counts().values.mean()]\n",
    "\n",
    "\n",
    "bars3 = [dfc211['40. Institutional births (%)'].value_counts().values.mean(),\n",
    "        dfc221['40. Institutional births (%)'].value_counts().values.mean(),\n",
    "        dfc231['40. Institutional births (%)'].value_counts().values.mean()]\n",
    " \n",
    "# Heights of bars1 + bars2\n",
    "bars = np.add(bars1, bars2).tolist()\n",
    " \n",
    "# The position of the bars on the x-axis\n",
    "r = [0,1,2]\n",
    " \n",
    "# Names of group and bar width\n",
    "names = ['low contr %','high contr %','medium contr %']\n",
    "barWidth = 0.5\n",
    " \n",
    "# Create brown bars\n",
    "plt.bar(r, bars1, color='xkcd:wheat', edgecolor='black', width=barWidth, label='low % inst. births')\n",
    "# Create green bars (middle), on top of the firs ones\n",
    "plt.bar(r, bars2, bottom=bars1, color= 'xkcd:turquoise', edgecolor='black', width=barWidth, label='Medium % inst. births')\n",
    "# Create green bars (top)\n",
    "plt.bar(r, bars3, bottom=bars, color='xkcd:chartreuse', edgecolor='black', width=barWidth, label='High %inst. birth')\n",
    " \n",
    "# Custom X axis\n",
    "plt.xticks(r, names, fontweight='bold')\n",
    "plt.xlabel(\"Contraception usage and % of institutional births\", weight='bold')\n",
    "plt.legend(loc=0, ncol=2)\n",
    " \n",
    "# Show graphic\n",
    "plt.savefig('./../Plots/RESULT PLOTS/plot20.png')\n",
    "plt.show()"
   ]
  },
  {
   "cell_type": "markdown",
   "metadata": {},
   "source": [
    "## Influence of contraception awareness in mothers on % of women who went for Cervix and Breast cancer checkups"
   ]
  },
  {
   "cell_type": "code",
   "execution_count": 25,
   "metadata": {},
   "outputs": [
    {
     "name": "stderr",
     "output_type": "stream",
     "text": [
      "/opt/anaconda3/lib/python3.7/site-packages/ipykernel_launcher.py:1: SettingWithCopyWarning: \n",
      "A value is trying to be set on a copy of a slice from a DataFrame.\n",
      "Try using .loc[row_indexer,col_indexer] = value instead\n",
      "\n",
      "See the caveats in the documentation: http://pandas.pydata.org/pandas-docs/stable/user_guide/indexing.html#returning-a-view-versus-a-copy\n",
      "  \"\"\"Entry point for launching an IPython kernel.\n"
     ]
    }
   ],
   "source": [
    "df_cluster_1['91. Cervix (%)'] = df_discrete['91. Cervix (%)'].tolist()"
   ]
  },
  {
   "cell_type": "code",
   "execution_count": 26,
   "metadata": {},
   "outputs": [
    {
     "name": "stdout",
     "output_type": "stream",
     "text": [
      "C0\n",
      "0.5128205128205128\n",
      "0.39487179487179486\n",
      "0.09230769230769231\n",
      "C1\n",
      "0.16666666666666666\n",
      "0.25870646766169153\n",
      "0.5746268656716418\n",
      "C2\n",
      "0.328\n",
      "0.346\n",
      "0.326\n"
     ]
    }
   ],
   "source": [
    "dfC0 = df_cluster_1[df_cluster_1['cluster labels']==1]\n",
    "dfC1 = df_cluster_1[df_cluster_1['cluster labels']==2]\n",
    "dfC2 = df_cluster_1[df_cluster_1['cluster labels']==3]\n",
    "\n",
    "l,m,h=0,0,0\n",
    "\n",
    "l = dfC0[dfC0['91. Cervix (%)']=='low'].shape[0]/dfC0.shape[0]\n",
    "m = dfC0[dfC0['91. Cervix (%)']=='medium'].shape[0]/dfC0.shape[0]\n",
    "h = dfC0[dfC0['91. Cervix (%)']=='high'].shape[0]/dfC0.shape[0]\n",
    "print(\"C0\")\n",
    "print(l)\n",
    "print(m)\n",
    "print(h)\n",
    "\n",
    "l = dfC1[dfC1['91. Cervix (%)']=='low'].shape[0]/dfC1.shape[0]\n",
    "m = dfC1[dfC1['91. Cervix (%)']=='medium'].shape[0]/dfC1.shape[0]\n",
    "h = dfC1[dfC1['91. Cervix (%)']=='high'].shape[0]/dfC1.shape[0]\n",
    "print(\"C1\")\n",
    "print(l)\n",
    "print(m)\n",
    "print(h)\n",
    "\n",
    "l = dfC2[dfC2['91. Cervix (%)']=='low'].shape[0]/dfC2.shape[0]\n",
    "m = dfC2[dfC2['91. Cervix (%)']=='medium'].shape[0]/dfC2.shape[0]\n",
    "h = dfC2[dfC2['91. Cervix (%)']=='high'].shape[0]/dfC2.shape[0]\n",
    "print(\"C2\")\n",
    "print(l)\n",
    "print(m)\n",
    "print(h)"
   ]
  },
  {
   "cell_type": "code",
   "execution_count": 27,
   "metadata": {},
   "outputs": [
    {
     "name": "stderr",
     "output_type": "stream",
     "text": [
      "/opt/anaconda3/lib/python3.7/site-packages/ipykernel_launcher.py:1: SettingWithCopyWarning: \n",
      "A value is trying to be set on a copy of a slice from a DataFrame.\n",
      "Try using .loc[row_indexer,col_indexer] = value instead\n",
      "\n",
      "See the caveats in the documentation: http://pandas.pydata.org/pandas-docs/stable/user_guide/indexing.html#returning-a-view-versus-a-copy\n",
      "  \"\"\"Entry point for launching an IPython kernel.\n"
     ]
    }
   ],
   "source": [
    "df_cluster_1['92. Breast (%)']  = df_discrete['92. Breast (%)'].tolist()"
   ]
  },
  {
   "cell_type": "code",
   "execution_count": 28,
   "metadata": {},
   "outputs": [
    {
     "name": "stdout",
     "output_type": "stream",
     "text": [
      "C0\n",
      "0.47692307692307695\n",
      "0.36923076923076925\n",
      "0.15384615384615385\n",
      "C1\n",
      "0.1865671641791045\n",
      "0.26119402985074625\n",
      "0.5522388059701493\n",
      "C2\n",
      "0.348\n",
      "0.354\n",
      "0.298\n"
     ]
    }
   ],
   "source": [
    "dfC0 = df_cluster_1[df_cluster_1['cluster labels']==1]\n",
    "dfC1 = df_cluster_1[df_cluster_1['cluster labels']==2]\n",
    "dfC2 = df_cluster_1[df_cluster_1['cluster labels']==3]\n",
    "\n",
    "l,m,h=0,0,0\n",
    "\n",
    "l = dfC0[dfC0['92. Breast (%)']=='low'].shape[0]/dfC0.shape[0]\n",
    "m = dfC0[dfC0['92. Breast (%)']=='medium'].shape[0]/dfC0.shape[0]\n",
    "h = dfC0[dfC0['92. Breast (%)']=='high'].shape[0]/dfC0.shape[0]\n",
    "print(\"C0\")\n",
    "print(l)\n",
    "print(m)\n",
    "print(h)\n",
    "\n",
    "l = dfC1[dfC1['92. Breast (%)']=='low'].shape[0]/dfC1.shape[0]\n",
    "m = dfC1[dfC1['92. Breast (%)']=='medium'].shape[0]/dfC1.shape[0]\n",
    "h = dfC1[dfC1['92. Breast (%)']=='high'].shape[0]/dfC1.shape[0]\n",
    "print(\"C1\")\n",
    "print(l)\n",
    "print(m)\n",
    "print(h)\n",
    "\n",
    "l = dfC2[dfC2['92. Breast (%)']=='low'].shape[0]/dfC2.shape[0]\n",
    "m = dfC2[dfC2['92. Breast (%)']=='medium'].shape[0]/dfC2.shape[0]\n",
    "h = dfC2[dfC2['92. Breast (%)']=='high'].shape[0]/dfC2.shape[0]\n",
    "print(\"C2\")\n",
    "print(l)\n",
    "print(m)\n",
    "print(h)"
   ]
  },
  {
   "cell_type": "markdown",
   "metadata": {},
   "source": [
    "\n",
    "It is clear that of all the districts that belong to cluster 0 (corresponding to 'low' % of women using modern methods of contraception ), 47.6% and 51.2% of districts have a 'low' % of women went for breast cancer and cervix cancer checkups respectively. On the other hand, of all the points that belong to  cluster 1 (corresponding to 'high' % of women using modern methods of contraception ), 55.2% and 57.4% of districts have a 'high' % of women went for breast cancer and cervix cancer checkups respectively. \n",
    "<br>\n",
    "**Women who are aware about use of contraception are more concerned about their own health and take better decisions in this regard (such as going for regular checkups of cervix and breast cancer.)**\n"
   ]
  },
  {
   "cell_type": "code",
   "execution_count": 29,
   "metadata": {},
   "outputs": [],
   "source": [
    "df11=df_cluster_1.loc[df_cluster_1['cluster labels']==1]#low\n",
    "dfc011=df11.loc[df11['91. Cervix (%)']=='low']\n",
    "dfc111=df11.loc[df11['91. Cervix (%)']=='medium']\n",
    "dfc211=df11.loc[df11['91. Cervix (%)']=='high']\n",
    "\n",
    "df21=df_cluster_1.loc[df_cluster_1['cluster labels']==2]#high\n",
    "dfc021=df21.loc[df21['91. Cervix (%)']=='low']\n",
    "dfc121=df21.loc[df21['91. Cervix (%)']=='medium']\n",
    "dfc221=df21.loc[df21['91. Cervix (%)']=='high']\n",
    "\n",
    "df31=df_cluster_1.loc[df_cluster_1['cluster labels']==3]#medium\n",
    "dfc031=df31.loc[df31['91. Cervix (%)']=='low']\n",
    "dfc131=df31.loc[df31['91. Cervix (%)']=='medium']\n",
    "dfc231=df31.loc[df31['91. Cervix (%)']=='high']"
   ]
  },
  {
   "cell_type": "code",
   "execution_count": 30,
   "metadata": {},
   "outputs": [
    {
     "data": {
      "image/png": "[encoded data removed]",
      "text/plain": [
       "<Figure size 432x288 with 1 Axes>"
      ]
     },
     "metadata": {
      "needs_background": "light"
     },
     "output_type": "display_data"
    }
   ],
   "source": [
    " \n",
    "# y-axis in bold\n",
    "rc('font', weight='bold')\n",
    " \n",
    "# Values of each group\n",
    "bars1 = [dfc011['91. Cervix (%)'].value_counts().values.mean(),\n",
    "         dfc021['91. Cervix (%)'].value_counts().values.mean(),\n",
    "         dfc031['91. Cervix (%)'].value_counts().values.mean()]\n",
    "\n",
    "\n",
    "bars2 = [dfc111['91. Cervix (%)'].value_counts().values.mean(),\n",
    "        dfc121['91. Cervix (%)'].value_counts().values.mean(),\n",
    "        dfc131['91. Cervix (%)'].value_counts().values.mean()]\n",
    "\n",
    "\n",
    "bars3 = [dfc211['91. Cervix (%)'].value_counts().values.mean(),\n",
    "        dfc221['91. Cervix (%)'].value_counts().values.mean(),\n",
    "        dfc231['91. Cervix (%)'].value_counts().values.mean()]\n",
    " \n",
    "# Heights of bars1 + bars2\n",
    "bars = np.add(bars1, bars2).tolist()\n",
    " \n",
    "# The position of the bars on the x-axis\n",
    "r = [0,1,2]\n",
    " \n",
    "# Names of group and bar width\n",
    "names = ['low contr %','high contr %','medium contr %']\n",
    "barWidth = 0.5\n",
    " \n",
    "# Create brown bars\n",
    "plt.bar(r, bars1, color='xkcd:aquamarine', edgecolor='black', width=barWidth, label='low % awareness')\n",
    "# Create green bars (middle), on top of the firs ones\n",
    "plt.bar(r, bars2, bottom=bars1, color= 'xkcd:goldenrod', edgecolor='black', width=barWidth, label='Medium % awarenes')\n",
    "# Create green bars (top)\n",
    "plt.bar(r, bars3, bottom=bars, color='xkcd:maroon', edgecolor='black', width=barWidth, label='High % awareness')\n",
    " \n",
    "# Custom X axis\n",
    "plt.xticks(r, names, fontweight='bold')\n",
    "plt.xlabel(\"Contraception usage and % of awareness of cervix cancer\")\n",
    "plt.legend(loc=0, ncol=2)\n",
    " \n",
    "# Show graphic\n",
    "plt.savefig('./../Plots/RESULT PLOTS/plot21.png')\n",
    "plt.show()"
   ]
  },
  {
   "cell_type": "code",
   "execution_count": 31,
   "metadata": {},
   "outputs": [],
   "source": [
    "df11=df_cluster_1.loc[df_cluster_1['cluster labels']==1]#low\n",
    "dfc011=df11.loc[df11['92. Breast (%)']=='low']\n",
    "dfc111=df11.loc[df11['92. Breast (%)']=='medium']\n",
    "dfc211=df11.loc[df11['92. Breast (%)']=='high']\n",
    "\n",
    "df21=df_cluster_1.loc[df_cluster_1['cluster labels']==2]#high\n",
    "dfc021=df21.loc[df21['92. Breast (%)']=='low']\n",
    "dfc121=df21.loc[df21['92. Breast (%)']=='medium']\n",
    "dfc221=df21.loc[df21['92. Breast (%)']=='high']\n",
    "\n",
    "df31=df_cluster_1.loc[df_cluster_1['cluster labels']==3]#medium\n",
    "dfc031=df31.loc[df31['92. Breast (%)']=='low']\n",
    "dfc131=df31.loc[df31['92. Breast (%)']=='medium']\n",
    "dfc231=df31.loc[df31['92. Breast (%)']=='high']"
   ]
  },
  {
   "cell_type": "code",
   "execution_count": 32,
   "metadata": {},
   "outputs": [
    {
     "data": {
      "image/png": "[encoded data removed]",
      "text/plain": [
       "<Figure size 432x288 with 1 Axes>"
      ]
     },
     "metadata": {
      "needs_background": "light"
     },
     "output_type": "display_data"
    }
   ],
   "source": [
    " \n",
    "# y-axis in bold\n",
    "rc('font', weight='bold')\n",
    " \n",
    "# Values of each group\n",
    "bars1 = [dfc011['92. Breast (%)'].value_counts().values.mean(),\n",
    "         dfc021['92. Breast (%)'].value_counts().values.mean(),\n",
    "         dfc031['92. Breast (%)'].value_counts().values.mean()]\n",
    "\n",
    "\n",
    "bars2 = [dfc111['92. Breast (%)'].value_counts().values.mean(),\n",
    "        dfc121['92. Breast (%)'].value_counts().values.mean(),\n",
    "        dfc131['92. Breast (%)'].value_counts().values.mean()]\n",
    "\n",
    "\n",
    "bars3 = [dfc211['92. Breast (%)'].value_counts().values.mean(),\n",
    "        dfc221['92. Breast (%)'].value_counts().values.mean(),\n",
    "        dfc231['92. Breast (%)'].value_counts().values.mean()]\n",
    " \n",
    "# Heights of bars1 + bars2\n",
    "bars = np.add(bars1, bars2).tolist()\n",
    " \n",
    "# The position of the bars on the x-axis\n",
    "r = [0,1,2]\n",
    " \n",
    "# Names of group and bar width\n",
    "names = ['low contr %','high contr %','medium contr %']\n",
    "barWidth = 0.5\n",
    " \n",
    "# Create brown bars\n",
    "plt.bar(r, bars1, color='xkcd:salmon', edgecolor='black', width=barWidth, label='low % awareness')\n",
    "# Create green bars (middle), on top of the firs ones\n",
    "plt.bar(r, bars2, bottom=bars1, color= 'xkcd:goldenrod', edgecolor='black', width=barWidth, label='Medium % awarenes')\n",
    "# Create green bars (top)\n",
    "plt.bar(r, bars3, bottom=bars, color='xkcd:aquamarine', edgecolor='black', width=barWidth, label='High % awareness')\n",
    " \n",
    "# Custom X axis\n",
    "plt.xticks(r, names, fontweight='bold')\n",
    "plt.xlabel(\"Contraception usage and % of awareness of breast cancer\")\n",
    "plt.legend(loc=0, ncol=2)\n",
    " \n",
    "# Show graphic\n",
    "plt.savefig('./../Plots/RESULT PLOTS/plot22.png')\n",
    "plt.show()"
   ]
  },
  {
   "cell_type": "markdown",
   "metadata": {},
   "source": [
    "# 3. Association Rule Mining to identify factors that affect child stunting"
   ]
  },
  {
   "cell_type": "code",
   "execution_count": 33,
   "metadata": {},
   "outputs": [],
   "source": [
    "df_apriori = pd.read_csv('./../Data/working_data/equal_frequency_discretised_data_7.csv')\n",
    "df_apriori.drop(df_apriori.columns[[0]], axis = 1, inplace = True) \n",
    "df_apriori = df_apriori[['19. Any modern method (%)','12. Women who are literate (%)',\n",
    " '13. Men who are literate (%)' , \n",
    "'14. Women with 10 or more years of schooling (%)' ,\n",
    "'30. Mothers who had at least 4 antenatal care visits (%)' , '40. Institutional births (%)' ,\n",
    "'53. Children age 9-59 months who received a vitamin A dose in last 6 months (%)',\n",
    "'32. Mothers who consumed iron folic acid for 100 days or more when they were pregnant (%)',\n",
    " '47. Children age 12-23 months fully immunized (BCG measles and 3 doses each of polio/DPT) (%)',\n",
    "                            '91. Cervix (%)' , '92. Breast (%)'\n",
    "                        ]]"
   ]
  },
  {
   "cell_type": "code",
   "execution_count": 34,
   "metadata": {
    "scrolled": true
   },
   "outputs": [
    {
     "data": {
      "text/html": [
       "<div>\n",
       "<style scoped>\n",
       "    .dataframe tbody tr th:only-of-type {\n",
       "        vertical-align: middle;\n",
       "    }\n",
       "\n",
       "    .dataframe tbody tr th {\n",
       "        vertical-align: top;\n",
       "    }\n",
       "\n",
       "    .dataframe thead th {\n",
       "        text-align: right;\n",
       "    }\n",
       "</style>\n",
       "<table border=\"1\" class=\"dataframe\">\n",
       "  <thead>\n",
       "    <tr style=\"text-align: right;\">\n",
       "      <th></th>\n",
       "      <th>19. Any modern method (%)</th>\n",
       "      <th>12. Women who are literate (%)</th>\n",
       "      <th>13. Men who are literate (%)</th>\n",
       "      <th>14. Women with 10 or more years of schooling (%)</th>\n",
       "      <th>30. Mothers who had at least 4 antenatal care visits (%)</th>\n",
       "      <th>40. Institutional births (%)</th>\n",
       "      <th>53. Children age 9-59 months who received a vitamin A dose in last 6 months (%)</th>\n",
       "      <th>32. Mothers who consumed iron folic acid for 100 days or more when they were pregnant (%)</th>\n",
       "      <th>47. Children age 12-23 months fully immunized (BCG measles and 3 doses each of polio/DPT) (%)</th>\n",
       "      <th>91. Cervix (%)</th>\n",
       "      <th>92. Breast (%)</th>\n",
       "    </tr>\n",
       "  </thead>\n",
       "  <tbody>\n",
       "    <tr>\n",
       "      <td>0</td>\n",
       "      <td>low</td>\n",
       "      <td>high</td>\n",
       "      <td>high</td>\n",
       "      <td>medium</td>\n",
       "      <td>medium</td>\n",
       "      <td>low</td>\n",
       "      <td>low</td>\n",
       "      <td>low</td>\n",
       "      <td>medium</td>\n",
       "      <td>medium</td>\n",
       "      <td>low</td>\n",
       "    </tr>\n",
       "    <tr>\n",
       "      <td>1</td>\n",
       "      <td>low</td>\n",
       "      <td>high</td>\n",
       "      <td>high</td>\n",
       "      <td>medium</td>\n",
       "      <td>medium</td>\n",
       "      <td>low</td>\n",
       "      <td>low</td>\n",
       "      <td>low</td>\n",
       "      <td>medium</td>\n",
       "      <td>medium</td>\n",
       "      <td>low</td>\n",
       "    </tr>\n",
       "    <tr>\n",
       "      <td>2</td>\n",
       "      <td>low</td>\n",
       "      <td>medium</td>\n",
       "      <td>high</td>\n",
       "      <td>low</td>\n",
       "      <td>low</td>\n",
       "      <td>low</td>\n",
       "      <td>low</td>\n",
       "      <td>low</td>\n",
       "      <td>low</td>\n",
       "      <td>medium</td>\n",
       "      <td>low</td>\n",
       "    </tr>\n",
       "    <tr>\n",
       "      <td>3</td>\n",
       "      <td>low</td>\n",
       "      <td>medium</td>\n",
       "      <td>high</td>\n",
       "      <td>medium</td>\n",
       "      <td>low</td>\n",
       "      <td>low</td>\n",
       "      <td>low</td>\n",
       "      <td>low</td>\n",
       "      <td>low</td>\n",
       "      <td>medium</td>\n",
       "      <td>low</td>\n",
       "    </tr>\n",
       "    <tr>\n",
       "      <td>4</td>\n",
       "      <td>low</td>\n",
       "      <td>high</td>\n",
       "      <td>high</td>\n",
       "      <td>medium</td>\n",
       "      <td>medium</td>\n",
       "      <td>low</td>\n",
       "      <td>low</td>\n",
       "      <td>medium</td>\n",
       "      <td>low</td>\n",
       "      <td>low</td>\n",
       "      <td>low</td>\n",
       "    </tr>\n",
       "    <tr>\n",
       "      <td>...</td>\n",
       "      <td>...</td>\n",
       "      <td>...</td>\n",
       "      <td>...</td>\n",
       "      <td>...</td>\n",
       "      <td>...</td>\n",
       "      <td>...</td>\n",
       "      <td>...</td>\n",
       "      <td>...</td>\n",
       "      <td>...</td>\n",
       "      <td>...</td>\n",
       "      <td>...</td>\n",
       "    </tr>\n",
       "    <tr>\n",
       "      <td>1287</td>\n",
       "      <td>low</td>\n",
       "      <td>high</td>\n",
       "      <td>high</td>\n",
       "      <td>high</td>\n",
       "      <td>medium</td>\n",
       "      <td>low</td>\n",
       "      <td>low</td>\n",
       "      <td>low</td>\n",
       "      <td>medium</td>\n",
       "      <td>medium</td>\n",
       "      <td>low</td>\n",
       "    </tr>\n",
       "    <tr>\n",
       "      <td>1288</td>\n",
       "      <td>low</td>\n",
       "      <td>high</td>\n",
       "      <td>medium</td>\n",
       "      <td>medium</td>\n",
       "      <td>low</td>\n",
       "      <td>low</td>\n",
       "      <td>low</td>\n",
       "      <td>low</td>\n",
       "      <td>medium</td>\n",
       "      <td>medium</td>\n",
       "      <td>low</td>\n",
       "    </tr>\n",
       "    <tr>\n",
       "      <td>1289</td>\n",
       "      <td>low</td>\n",
       "      <td>high</td>\n",
       "      <td>high</td>\n",
       "      <td>high</td>\n",
       "      <td>low</td>\n",
       "      <td>low</td>\n",
       "      <td>low</td>\n",
       "      <td>low</td>\n",
       "      <td>medium</td>\n",
       "      <td>medium</td>\n",
       "      <td>low</td>\n",
       "    </tr>\n",
       "    <tr>\n",
       "      <td>1290</td>\n",
       "      <td>low</td>\n",
       "      <td>medium</td>\n",
       "      <td>medium</td>\n",
       "      <td>low</td>\n",
       "      <td>low</td>\n",
       "      <td>low</td>\n",
       "      <td>low</td>\n",
       "      <td>low</td>\n",
       "      <td>low</td>\n",
       "      <td>medium</td>\n",
       "      <td>low</td>\n",
       "    </tr>\n",
       "    <tr>\n",
       "      <td>1291</td>\n",
       "      <td>low</td>\n",
       "      <td>high</td>\n",
       "      <td>medium</td>\n",
       "      <td>low</td>\n",
       "      <td>low</td>\n",
       "      <td>low</td>\n",
       "      <td>low</td>\n",
       "      <td>low</td>\n",
       "      <td>low</td>\n",
       "      <td>medium</td>\n",
       "      <td>low</td>\n",
       "    </tr>\n",
       "  </tbody>\n",
       "</table>\n",
       "<p>1292 rows × 11 columns</p>\n",
       "</div>"
      ],
      "text/plain": [
       "     19. Any modern method (%) 12. Women who are literate (%)  \\\n",
       "0                          low                           high   \n",
       "1                          low                           high   \n",
       "2                          low                         medium   \n",
       "3                          low                         medium   \n",
       "4                          low                           high   \n",
       "...                        ...                            ...   \n",
       "1287                       low                           high   \n",
       "1288                       low                           high   \n",
       "1289                       low                           high   \n",
       "1290                       low                         medium   \n",
       "1291                       low                           high   \n",
       "\n",
       "     13. Men who are literate (%)  \\\n",
       "0                            high   \n",
       "1                            high   \n",
       "2                            high   \n",
       "3                            high   \n",
       "4                            high   \n",
       "...                           ...   \n",
       "1287                         high   \n",
       "1288                       medium   \n",
       "1289                         high   \n",
       "1290                       medium   \n",
       "1291                       medium   \n",
       "\n",
       "     14. Women with 10 or more years of schooling (%)  \\\n",
       "0                                              medium   \n",
       "1                                              medium   \n",
       "2                                                 low   \n",
       "3                                              medium   \n",
       "4                                              medium   \n",
       "...                                               ...   \n",
       "1287                                             high   \n",
       "1288                                           medium   \n",
       "1289                                             high   \n",
       "1290                                              low   \n",
       "1291                                              low   \n",
       "\n",
       "     30. Mothers who had at least 4 antenatal care visits (%)  \\\n",
       "0                                                medium         \n",
       "1                                                medium         \n",
       "2                                                   low         \n",
       "3                                                   low         \n",
       "4                                                medium         \n",
       "...                                                 ...         \n",
       "1287                                             medium         \n",
       "1288                                                low         \n",
       "1289                                                low         \n",
       "1290                                                low         \n",
       "1291                                                low         \n",
       "\n",
       "     40. Institutional births (%)  \\\n",
       "0                             low   \n",
       "1                             low   \n",
       "2                             low   \n",
       "3                             low   \n",
       "4                             low   \n",
       "...                           ...   \n",
       "1287                          low   \n",
       "1288                          low   \n",
       "1289                          low   \n",
       "1290                          low   \n",
       "1291                          low   \n",
       "\n",
       "     53. Children age 9-59 months who received a vitamin A dose in last 6 months (%)  \\\n",
       "0                                                   low                                \n",
       "1                                                   low                                \n",
       "2                                                   low                                \n",
       "3                                                   low                                \n",
       "4                                                   low                                \n",
       "...                                                 ...                                \n",
       "1287                                                low                                \n",
       "1288                                                low                                \n",
       "1289                                                low                                \n",
       "1290                                                low                                \n",
       "1291                                                low                                \n",
       "\n",
       "     32. Mothers who consumed iron folic acid for 100 days or more when they were pregnant (%)  \\\n",
       "0                                                   low                                          \n",
       "1                                                   low                                          \n",
       "2                                                   low                                          \n",
       "3                                                   low                                          \n",
       "4                                                medium                                          \n",
       "...                                                 ...                                          \n",
       "1287                                                low                                          \n",
       "1288                                                low                                          \n",
       "1289                                                low                                          \n",
       "1290                                                low                                          \n",
       "1291                                                low                                          \n",
       "\n",
       "     47. Children age 12-23 months fully immunized (BCG measles and 3 doses each of polio/DPT) (%)  \\\n",
       "0                                                medium                                              \n",
       "1                                                medium                                              \n",
       "2                                                   low                                              \n",
       "3                                                   low                                              \n",
       "4                                                   low                                              \n",
       "...                                                 ...                                              \n",
       "1287                                             medium                                              \n",
       "1288                                             medium                                              \n",
       "1289                                             medium                                              \n",
       "1290                                                low                                              \n",
       "1291                                                low                                              \n",
       "\n",
       "     91. Cervix (%) 92. Breast (%)  \n",
       "0            medium            low  \n",
       "1            medium            low  \n",
       "2            medium            low  \n",
       "3            medium            low  \n",
       "4               low            low  \n",
       "...             ...            ...  \n",
       "1287         medium            low  \n",
       "1288         medium            low  \n",
       "1289         medium            low  \n",
       "1290         medium            low  \n",
       "1291         medium            low  \n",
       "\n",
       "[1292 rows x 11 columns]"
      ]
     },
     "execution_count": 34,
     "metadata": {},
     "output_type": "execute_result"
    }
   ],
   "source": [
    "df_apriori"
   ]
  },
  {
   "cell_type": "code",
   "execution_count": 35,
   "metadata": {},
   "outputs": [],
   "source": [
    "cols = df_apriori.columns\n",
    "df_apriori = df_apriori.values\n",
    "df_apriori = df_apriori.tolist()"
   ]
  },
  {
   "cell_type": "markdown",
   "metadata": {},
   "source": [
    "## 3.1 Conversion of categorical attributes into a suitable input for association rule mining (assymetric binary attributes)\n",
    "\n",
    "each attribute will be converted from attribute_name to attribute_name - low , attribute_name - med , attribute_name - high"
   ]
  },
  {
   "cell_type": "code",
   "execution_count": 36,
   "metadata": {},
   "outputs": [],
   "source": [
    "for row in df_apriori:\n",
    "  for i in range(len(row)):\n",
    "    row[i] = cols[i] + ' ' + row[i]"
   ]
  },
  {
   "cell_type": "markdown",
   "metadata": {},
   "source": [
    "## 3.2 Implementation of Association Rule Mining (Using Apriori Algorithm)"
   ]
  },
  {
   "cell_type": "code",
   "execution_count": 37,
   "metadata": {},
   "outputs": [
    {
     "name": "stdout",
     "output_type": "stream",
     "text": [
      "<class 'generator'>\n",
      "<generator object GetRecords at 0x11bc1f0d0>\n"
     ]
    }
   ],
   "source": [
    "# Functions to perform associarion rule mining\n",
    "def GetRecords(dfApriori):\n",
    "\n",
    "  for listt in dfApriori:\n",
    "      recordToYield = frozenset(listt)  \n",
    "      yield recordToYield\n",
    "\n",
    "dfApriori = df_apriori\n",
    "records_ = GetRecords(dfApriori)\n",
    "print(type(records_))\n",
    "print(records_)\n",
    "\n",
    "import sys\n",
    "\n",
    "from itertools import chain, combinations\n",
    "from collections import defaultdict\n",
    "from optparse import OptionParser\n",
    "\n",
    "\n",
    "def subsets(arr):\n",
    "   \n",
    "    return chain(*[combinations(arr, i + 1) for i, a in enumerate(arr)])\n",
    "\n",
    "\n",
    "def returnItemsWithMinSupport(itemSet, transactionList, minSupport, freqSet):\n",
    "       \n",
    "        _itemSet = set()\n",
    "        localSet = defaultdict(int)\n",
    "\n",
    "        for item in itemSet:\n",
    "                for transaction in transactionList:\n",
    "                        if item.issubset(transaction):\n",
    "                                freqSet[item] += 1\n",
    "                                localSet[item] += 1\n",
    "\n",
    "        for item, count in localSet.items():\n",
    "                support = float(count)/len(transactionList)\n",
    "\n",
    "                if support >= minSupport:\n",
    "                        _itemSet.add(item)\n",
    "\n",
    "        return _itemSet\n",
    "\n",
    "\n",
    "def joinSet(itemSet, length):\n",
    "        return set([i.union(j) for i in itemSet for j in itemSet if len(i.union(j)) == length])\n",
    "\n",
    "\n",
    "def getItemSetTransactionList(data_iterator):\n",
    "    transactionList = list()\n",
    "    itemSet = set()\n",
    "    for record in data_iterator:\n",
    "        transaction = frozenset(record)\n",
    "        transactionList.append(transaction)\n",
    "        for item in transaction:\n",
    "            itemSet.add(frozenset([item]))              # Generate 1-itemSets\n",
    "    return itemSet, transactionList\n",
    "\n",
    "\n",
    "def runApriori(data_iter, minSupport, minConfidence):\n",
    "   \n",
    "    itemSet, transactionList = getItemSetTransactionList(data_iter)\n",
    "    freqSet = defaultdict(int)\n",
    "    largeSet = dict()\n",
    "    # Global dictionary which stores (key=n-itemSets,value=support)\n",
    "    # which satisfy minSupport\n",
    "\n",
    "    assocRules = dict()\n",
    "    # Dictionary which stores Association Rules\n",
    "    #C-1 itemset\n",
    "    oneCSet = returnItemsWithMinSupport(itemSet,\n",
    "                                        transactionList,\n",
    "                                        minSupport,\n",
    "                                        freqSet)\n",
    "    #freq-1 itemset\n",
    "    currentLSet = oneCSet\n",
    "    k = 2\n",
    "    while(currentLSet != set([])):\n",
    "        largeSet[k-1] = currentLSet\n",
    "        currentLSet = joinSet(currentLSet, k)\n",
    "        currentCSet = returnItemsWithMinSupport(currentLSet,\n",
    "                                                transactionList,\n",
    "                                                minSupport,\n",
    "                                                freqSet)\n",
    "        currentLSet = currentCSet\n",
    "        k = k + 1\n",
    "\n",
    "    def getSupport(item):\n",
    "            return float(freqSet[item])/len(transactionList)\n",
    "\n",
    "            \n",
    "#largeSet dict contains the freq Itemsets\n",
    "    toRetItems = []\n",
    "    for key, value in largeSet.items():\n",
    "        toRetItems.extend([(tuple(item), getSupport(item))\n",
    "                           for item in value])\n",
    "\n",
    "    toRetRules = []\n",
    "    for key, value in largeSet.items():\n",
    "      if not key==0:\n",
    "        for item in value:\n",
    "            _subsets = map(frozenset, [x for x in subsets(item)])\n",
    "            for element in _subsets:\n",
    "                remain = item.difference(element)\n",
    "                if len(remain) > 0:\n",
    "                    confidence = getSupport(item)/getSupport(element)\n",
    "                    if confidence >= minConfidence:\n",
    "                        toRetRules.append(((tuple(element), tuple(remain)),\n",
    "                                           confidence))\n",
    "    return toRetItems, toRetRules\n"
   ]
  },
  {
   "cell_type": "markdown",
   "metadata": {},
   "source": [
    "**We mined association rules which satisfied a support threshold of 0.15 and confidence threshold of 0.5**"
   ]
  },
  {
   "cell_type": "code",
   "execution_count": 38,
   "metadata": {},
   "outputs": [],
   "source": [
    "items_, rules_ = runApriori(records_, 0.15, 0.50)\n"
   ]
  },
  {
   "cell_type": "markdown",
   "metadata": {},
   "source": [
    "## 3.3 Frequent Itemsets (Support > 0.15) containing the attribute 'Any Modern Method of Contraception Use - high'"
   ]
  },
  {
   "cell_type": "code",
   "execution_count": 39,
   "metadata": {},
   "outputs": [
    {
     "name": "stdout",
     "output_type": "stream",
     "text": [
      "(('19. Any modern method (%) high',), 0.33359133126934987)\n",
      "\n",
      "\n",
      "\n",
      "(('47. Children age 12-23 months fully immunized (BCG measles and 3 doses each of polio/DPT) (%) high', '19. Any modern method (%) high'), 0.17105263157894737)\n",
      "\n",
      "\n",
      "\n",
      "(('91. Cervix (%) high', '19. Any modern method (%) high'), 0.18808049535603716)\n",
      "\n",
      "\n",
      "\n",
      "(('53. Children age 9-59 months who received a vitamin A dose in last 6 months (%) high', '19. Any modern method (%) high'), 0.17414860681114552)\n",
      "\n",
      "\n",
      "\n",
      "(('14. Women with 10 or more years of schooling (%) high', '19. Any modern method (%) high'), 0.16640866873065016)\n",
      "\n",
      "\n",
      "\n",
      "(('30. Mothers who had at least 4 antenatal care visits (%) high', '19. Any modern method (%) high'), 0.1826625386996904)\n",
      "\n",
      "\n",
      "\n",
      "(('92. Breast (%) high', '19. Any modern method (%) high'), 0.18188854489164086)\n",
      "\n",
      "\n",
      "\n",
      "(('40. Institutional births (%) high', '19. Any modern method (%) high'), 0.1826625386996904)\n",
      "\n",
      "\n",
      "\n",
      "(('32. Mothers who consumed iron folic acid for 100 days or more when they were pregnant (%) high', '19. Any modern method (%) high'), 0.17182662538699692)\n",
      "\n",
      "\n",
      "\n"
     ]
    }
   ],
   "source": [
    "\n",
    "for complete_tuple in items_:\n",
    "    itemset = complete_tuple[0]\n",
    "    if('19. Any modern method (%) high' in itemset):\n",
    "        print(complete_tuple)\n",
    "        print(\"\\n\\n\")"
   ]
  },
  {
   "cell_type": "markdown",
   "metadata": {},
   "source": [
    "## 3.4 Association Rules (Confidence > 0.5) containing the attribute 'Any Modern Method of Contraception Use - high' as its precondition (antecedent)"
   ]
  },
  {
   "cell_type": "code",
   "execution_count": 40,
   "metadata": {},
   "outputs": [
    {
     "name": "stdout",
     "output_type": "stream",
     "text": [
      "('19. Any modern method (%) high',) ---> ('47. Children age 12-23 months fully immunized (BCG measles and 3 doses each of polio/DPT) (%) high',)\n",
      "CONFIDENCE is: 0.5127610208816705\n",
      "\n",
      "\n",
      "\n",
      "('19. Any modern method (%) high',) ---> ('91. Cervix (%) high',)\n",
      "CONFIDENCE is: 0.5638051044083526\n",
      "\n",
      "\n",
      "\n",
      "('19. Any modern method (%) high',) ---> ('53. Children age 9-59 months who received a vitamin A dose in last 6 months (%) high',)\n",
      "CONFIDENCE is: 0.5220417633410673\n",
      "\n",
      "\n",
      "\n",
      "('19. Any modern method (%) high',) ---> ('30. Mothers who had at least 4 antenatal care visits (%) high',)\n",
      "CONFIDENCE is: 0.5475638051044083\n",
      "\n",
      "\n",
      "\n",
      "('19. Any modern method (%) high',) ---> ('92. Breast (%) high',)\n",
      "CONFIDENCE is: 0.5452436194895591\n",
      "\n",
      "\n",
      "\n",
      "('19. Any modern method (%) high',) ---> ('40. Institutional births (%) high',)\n",
      "CONFIDENCE is: 0.5475638051044083\n",
      "\n",
      "\n",
      "\n",
      "('19. Any modern method (%) high',) ---> ('32. Mothers who consumed iron folic acid for 100 days or more when they were pregnant (%) high',)\n",
      "CONFIDENCE is: 0.5150812064965198\n",
      "\n",
      "\n",
      "\n"
     ]
    }
   ],
   "source": [
    "for complete_tuple in rules_:\n",
    "    rule = complete_tuple[0]\n",
    "    antecedent = rule[0]\n",
    "    consequent = rule[1] \n",
    "    if('19. Any modern method (%) high' in antecedent and len(antecedent)==1):\n",
    "        print(str(antecedent)+' ---> '+str(consequent))\n",
    "        conf = complete_tuple[1]\n",
    "        print('CONFIDENCE is: '+str(conf))\n",
    "        print(\"\\n\\n\")"
   ]
  },
  {
   "cell_type": "code",
   "execution_count": null,
   "metadata": {},
   "outputs": [],
   "source": []
  },
  {
   "cell_type": "code",
   "execution_count": null,
   "metadata": {},
   "outputs": [],
   "source": []
  }
 ],
 "metadata": {
  "kernelspec": {
   "display_name": "Python 3",
   "language": "python",
   "name": "python3"
  },
  "language_info": {
   "codemirror_mode": {
    "name": "ipython",
    "version": 3
   },
   "file_extension": ".py",
   "mimetype": "text/x-python",
   "name": "python",
   "nbconvert_exporter": "python",
   "pygments_lexer": "ipython3",
   "version": "3.7.4"
  }
 },
 "nbformat": 4,
 "nbformat_minor": 2
}
